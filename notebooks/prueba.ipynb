{
 "cells": [
  {
   "cell_type": "code",
   "execution_count": 3,
   "metadata": {},
   "outputs": [
    {
     "name": "stdout",
     "output_type": "stream",
     "text": [
      "Processing /Users/brandon/Developer/libreria_uic\n",
      "  Installing build dependencies ... \u001b[?25ldone\n",
      "\u001b[?25h  Getting requirements to build wheel ... \u001b[?25ldone\n",
      "\u001b[?25h  Preparing metadata (pyproject.toml) ... \u001b[?25ldone\n",
      "\u001b[?25hBuilding wheels for collected packages: libreria-uic\n",
      "  Building wheel for libreria-uic (pyproject.toml) ... \u001b[?25ldone\n",
      "\u001b[?25h  Created wheel for libreria-uic: filename=libreria_uic-0.1.0-py2.py3-none-any.whl size=3966 sha256=31aa7a504151ef3f3b9632f4303a0b9495feb881c3aaf2eadc405c0d76e54cdb\n",
      "  Stored in directory: /private/var/folders/_k/yy7kxsr932x0zl34ptx5xkg40000gn/T/pip-ephem-wheel-cache-pr3_c605/wheels/e3/7b/a3/5dd66e142d775199b757eb741d90cca531684e7be15ce4a232\n",
      "Successfully built libreria-uic\n",
      "Installing collected packages: libreria-uic\n",
      "  Attempting uninstall: libreria-uic\n",
      "    Found existing installation: libreria-uic 0.1.0\n",
      "    Uninstalling libreria-uic-0.1.0:\n",
      "      Successfully uninstalled libreria-uic-0.1.0\n",
      "Successfully installed libreria-uic-0.1.0\n",
      "\n",
      "\u001b[1m[\u001b[0m\u001b[34;49mnotice\u001b[0m\u001b[1;39;49m]\u001b[0m\u001b[39;49m A new release of pip is available: \u001b[0m\u001b[31;49m23.2.1\u001b[0m\u001b[39;49m -> \u001b[0m\u001b[32;49m23.3.1\u001b[0m\n",
      "\u001b[1m[\u001b[0m\u001b[34;49mnotice\u001b[0m\u001b[1;39;49m]\u001b[0m\u001b[39;49m To update, run: \u001b[0m\u001b[32;49mpip install --upgrade pip\u001b[0m\n",
      "Note: you may need to restart the kernel to use updated packages.\n"
     ]
    }
   ],
   "source": [
    "%pip install .."
   ]
  },
  {
   "cell_type": "code",
   "execution_count": 5,
   "metadata": {},
   "outputs": [
    {
     "name": "stdout",
     "output_type": "stream",
     "text": [
      "<class 'google.cloud.bigquery.job.query.QueryJob'>\n",
      "Row((datetime.date(2017, 1, 2), datetime.time(10, 16, 49), 41.18743, 1.56902, 16, 'LlamaYA', 'LlamaYA', 0, 'STATE_IN_SERVICE', '3G', 0.0, 1.0, 24.0, 'gps', 'IN_VEHICLE', None, None, '430379', 'Calafell', 'POINT(1.56902 41.18743)'), {'date': 0, 'hour': 1, 'lat': 2, 'long': 3, 'signal': 4, 'network': 5, 'operator': 6, 'status': 7, 'description': 8, 'net': 9, 'speed': 10, 'satellites': 11, 'precission': 12, 'provider': 13, 'activity': 14, 'downloadSpeed': 15, 'uploadSpeed': 16, 'postal_code': 17, 'town_name': 18, 'position_geom': 19})\n",
      "\n",
      "\n",
      "Row((datetime.date(2017, 1, 2), datetime.time(11, 58, 42), 41.18778, 1.57203, 12, 'LlamaYA', 'LlamaYA', 2, 'STATE_EMERGENCY_ONLY', '3G', 0.0, 2.0, 48.0, 'gps', 'ON_FOOT', None, None, '430379', 'Calafell', 'POINT(1.57203 41.18778)'), {'date': 0, 'hour': 1, 'lat': 2, 'long': 3, 'signal': 4, 'network': 5, 'operator': 6, 'status': 7, 'description': 8, 'net': 9, 'speed': 10, 'satellites': 11, 'precission': 12, 'provider': 13, 'activity': 14, 'downloadSpeed': 15, 'uploadSpeed': 16, 'postal_code': 17, 'town_name': 18, 'position_geom': 19})\n",
      "\n",
      "\n",
      "Row((datetime.date(2017, 1, 2), datetime.time(0, 18, 34), 41.18736, 1.56897, 16, 'LlamaYA', 'LlamaYA', 0, 'STATE_IN_SERVICE', '3G', 1.8, 0.0, 45.0, 'fused', 'STILL', None, None, '430379', 'Calafell', 'POINT(1.56897 41.18736)'), {'date': 0, 'hour': 1, 'lat': 2, 'long': 3, 'signal': 4, 'network': 5, 'operator': 6, 'status': 7, 'description': 8, 'net': 9, 'speed': 10, 'satellites': 11, 'precission': 12, 'provider': 13, 'activity': 14, 'downloadSpeed': 15, 'uploadSpeed': 16, 'postal_code': 17, 'town_name': 18, 'position_geom': 19})\n",
      "\n",
      "\n",
      "Row((datetime.date(2017, 1, 2), datetime.time(20, 57, 8), 41.18735, 1.569, 11, 'LlamaYA', 'LlamaYA', 0, 'STATE_IN_SERVICE', '3G', 0.0, 0.0, 36.0, 'fused', 'STILL', None, None, '430379', 'Calafell', 'POINT(1.569 41.18735)'), {'date': 0, 'hour': 1, 'lat': 2, 'long': 3, 'signal': 4, 'network': 5, 'operator': 6, 'status': 7, 'description': 8, 'net': 9, 'speed': 10, 'satellites': 11, 'precission': 12, 'provider': 13, 'activity': 14, 'downloadSpeed': 15, 'uploadSpeed': 16, 'postal_code': 17, 'town_name': 18, 'position_geom': 19})\n",
      "\n",
      "\n",
      "Row((datetime.date(2017, 1, 2), datetime.time(19, 11, 47), 41.18731, 1.56902, 13, 'LlamaYA', 'LlamaYA', 0, 'STATE_IN_SERVICE', '3G', 2.8, 1.0, 67.0, 'fused', 'STILL', None, None, '430379', 'Calafell', 'POINT(1.56902 41.18731)'), {'date': 0, 'hour': 1, 'lat': 2, 'long': 3, 'signal': 4, 'network': 5, 'operator': 6, 'status': 7, 'description': 8, 'net': 9, 'speed': 10, 'satellites': 11, 'precission': 12, 'provider': 13, 'activity': 14, 'downloadSpeed': 15, 'uploadSpeed': 16, 'postal_code': 17, 'town_name': 18, 'position_geom': 19})\n",
      "\n",
      "\n",
      "Row((datetime.date(2017, 1, 2), datetime.time(18, 53, 33), 41.18732, 1.56902, 13, 'LlamaYA', 'LlamaYA', 0, 'STATE_IN_SERVICE', '3G', 0.1, 1.0, 40.0, 'fused', 'STILL', None, None, '430379', 'Calafell', 'POINT(1.56902 41.18732)'), {'date': 0, 'hour': 1, 'lat': 2, 'long': 3, 'signal': 4, 'network': 5, 'operator': 6, 'status': 7, 'description': 8, 'net': 9, 'speed': 10, 'satellites': 11, 'precission': 12, 'provider': 13, 'activity': 14, 'downloadSpeed': 15, 'uploadSpeed': 16, 'postal_code': 17, 'town_name': 18, 'position_geom': 19})\n",
      "\n",
      "\n",
      "Row((datetime.date(2017, 1, 2), datetime.time(0, 8, 34), 41.18735, 1.569, 16, 'LlamaYA', 'LlamaYA', 0, 'STATE_IN_SERVICE', '3G', 0.0, 0.0, 43.0, 'fused', 'STILL', None, None, '430379', 'Calafell', 'POINT(1.569 41.18735)'), {'date': 0, 'hour': 1, 'lat': 2, 'long': 3, 'signal': 4, 'network': 5, 'operator': 6, 'status': 7, 'description': 8, 'net': 9, 'speed': 10, 'satellites': 11, 'precission': 12, 'provider': 13, 'activity': 14, 'downloadSpeed': 15, 'uploadSpeed': 16, 'postal_code': 17, 'town_name': 18, 'position_geom': 19})\n",
      "\n",
      "\n",
      "Row((datetime.date(2017, 1, 2), datetime.time(22, 12, 13), 41.1873, 1.56906, 12, 'LlamaYA', 'LlamaYA', 0, 'STATE_IN_SERVICE', '3G', 1.4, 0.0, 37.0, 'fused', 'STILL', None, None, '430379', 'Calafell', 'POINT(1.56906 41.1873)'), {'date': 0, 'hour': 1, 'lat': 2, 'long': 3, 'signal': 4, 'network': 5, 'operator': 6, 'status': 7, 'description': 8, 'net': 9, 'speed': 10, 'satellites': 11, 'precission': 12, 'provider': 13, 'activity': 14, 'downloadSpeed': 15, 'uploadSpeed': 16, 'postal_code': 17, 'town_name': 18, 'position_geom': 19})\n",
      "\n",
      "\n",
      "Row((datetime.date(2017, 1, 2), datetime.time(0, 13, 56), 41.18831, 1.5701, 16, 'LlamaYA', 'LlamaYA', 0, 'STATE_IN_SERVICE', '3G', 1.6, 0.0, 128.0, 'fused', 'STILL', None, None, '430379', 'Calafell', 'POINT(1.5701 41.18831)'), {'date': 0, 'hour': 1, 'lat': 2, 'long': 3, 'signal': 4, 'network': 5, 'operator': 6, 'status': 7, 'description': 8, 'net': 9, 'speed': 10, 'satellites': 11, 'precission': 12, 'provider': 13, 'activity': 14, 'downloadSpeed': 15, 'uploadSpeed': 16, 'postal_code': 17, 'town_name': 18, 'position_geom': 19})\n",
      "\n",
      "\n",
      "Row((datetime.date(2017, 1, 2), datetime.time(16, 24, 28), 41.18618, 1.56962, 13, 'LlamaYA', 'LlamaYA', 0, 'STATE_IN_SERVICE', '3G', 0.0, 3.0, 128.0, 'gps', 'STILL', None, None, None, None, 'POINT(1.56962 41.18618)'), {'date': 0, 'hour': 1, 'lat': 2, 'long': 3, 'signal': 4, 'network': 5, 'operator': 6, 'status': 7, 'description': 8, 'net': 9, 'speed': 10, 'satellites': 11, 'precission': 12, 'provider': 13, 'activity': 14, 'downloadSpeed': 15, 'uploadSpeed': 16, 'postal_code': 17, 'town_name': 18, 'position_geom': 19})\n",
      "\n",
      "\n"
     ]
    }
   ],
   "source": [
    "import os\n",
    "from google.cloud import bigquery\n",
    "\n",
    "# Set ENV variable for google authentication\n",
    "os.environ['GOOGLE_APPLICATION_CREDENTIALS'] = '../service_account.json'\n",
    "\n",
    "# Create a client object\n",
    "client = bigquery.Client()\n",
    "\n",
    "# SQL query to execute\n",
    "query = \"\"\"\n",
    "    SELECT * FROM `bigquery-public-data.catalonian_mobile_coverage_eu.mobile_data_2015_2017` LIMIT 10\n",
    "\"\"\"\n",
    "query_job = client.query(query)  # Make an API request\n",
    "\n",
    "print(type(query_job))\n",
    "\n",
    "# Print the results\n",
    "for row in query_job:\n",
    "    # row values can be accessed by field name or index\n",
    "    print(row)\n",
    "    print(\"\\n\")\n"
   ]
  },
  {
   "cell_type": "code",
   "execution_count": null,
   "metadata": {},
   "outputs": [],
   "source": []
  }
 ],
 "metadata": {
  "kernelspec": {
   "display_name": "venv",
   "language": "python",
   "name": "python3"
  },
  "language_info": {
   "codemirror_mode": {
    "name": "ipython",
    "version": 3
   },
   "file_extension": ".py",
   "mimetype": "text/x-python",
   "name": "python",
   "nbconvert_exporter": "python",
   "pygments_lexer": "ipython3",
   "version": "3.11.6"
  }
 },
 "nbformat": 4,
 "nbformat_minor": 2
}
